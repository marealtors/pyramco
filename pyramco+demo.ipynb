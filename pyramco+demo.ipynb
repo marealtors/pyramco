{
 "cells": [
  {
   "cell_type": "markdown",
   "metadata": {},
   "source": [
    "welcome to the pyramco demo notebook. put your api key in the box below. leave the url as-is. click \"kernel\" above and change it to 3.6, then restart it."
   ]
  },
  {
   "cell_type": "code",
   "execution_count": 1,
   "metadata": {
    "collapsed": true
   },
   "outputs": [],
   "source": [
    "ramco_api_key = 'your_ramco_api_key_goes_here'\n",
    "ramco_api_url = 'https://api.ramcoams.com/api/v2/'"
   ]
  },
  {
   "cell_type": "markdown",
   "metadata": {},
   "source": [
    "run the cell above (which sets your variables to memory,) then run the cell below to prove your variables are set properly by printing them out."
   ]
  },
  {
   "cell_type": "code",
   "execution_count": 3,
   "metadata": {
    "collapsed": false,
    "scrolled": false
   },
   "outputs": [
    {
     "name": "stdout",
     "output_type": "stream",
     "text": [
      "your_ramco_api_key_goes_here\n",
      "https://api.ramcoams.com/api/v2/\n"
     ]
    }
   ],
   "source": [
    "print(ramco_api_key)\n",
    "print(ramco_api_url)"
   ]
  },
  {
   "cell_type": "markdown",
   "metadata": {},
   "source": [
    "the result you're looking for above is:\n",
    "\n",
    "your_ramco_api_key_goes_here (or whatever you set your api key to above, hopefully!)\n",
    "https://api.ramcoams.com/api/v2/\n",
    "\n",
    "those two variables will be put in a config file later, but for now this is good enough.\n",
    "\n",
    "you can also just explicitly state those variables at the beginning of every script, like: \n",
    "\n",
    "ramco_api_key = 'your_ramco_api_key_goes_here'\n",
    "ramco_api_url = 'https://api.ramcoams.com/api/v2/'\n",
    "\n",
    "next, we're going to import the entire pyramco base library, shown below. scroll past it for now."
   ]
  },
  {
   "cell_type": "code",
   "execution_count": 4,
   "metadata": {
    "collapsed": true
   },
   "outputs": [],
   "source": [
    "# pyramco\n",
    "# a partial wrapper class for simplifying RAMCO API calls in Python 3.6+\n",
    "# returns replies as json\n",
    "\n",
    "### clear_cache\n",
    "# no arguments are accepted. clears the server-side metadata cache. 204 is the expected return code\n",
    "## use this if you add a new entity or field and need it available to the API\n",
    "def clear_cache():\n",
    "    payload = {\n",
    "        'key': ramco_api_key,\n",
    "        'Operation':'ClearCache'\n",
    "        }\n",
    "    reply = requests.post(ramco_api_url,payload).json()\n",
    "    return(reply)\n",
    "\n",
    "### get_entity_types\n",
    "# no arguments are accepted. fetches all entities in the system\n",
    "def get_entity_types():\n",
    "    payload = {\n",
    "        'key': ramco_api_key,\n",
    "        'Operation':'GetEntityTypes'\n",
    "        }\n",
    "    reply = requests.post(ramco_api_url,payload).json()\n",
    "    return(reply)\n",
    "\n",
    "### get_entity_metadata\n",
    "# accepts a valid entity name enclosed in apostrophes, like: 'Contact'. returns all metadata on that entity\n",
    "def get_entity_metadata(entity):\n",
    "    payload = {\n",
    "        'key': ramco_api_key,\n",
    "        'Operation':'GetEntityMetadata',\n",
    "        'Entity': entity\n",
    "        }\n",
    "    reply = requests.post(ramco_api_url,payload).json()\n",
    "    return(reply)\n",
    "\n",
    "### get_entity\n",
    "# accepts a valid entity name, GUID, and a tuple of comma-separated attribute names. returns attribute values for the specified entity matching the GUID\n",
    "def get_entity(entity, guid, *attributes):\n",
    "    payload = {\n",
    "        'key': ramco_api_key,\n",
    "        'Operation':'GetEntity',\n",
    "        'Entity': entity,\n",
    "        'GUID': guid,\n",
    "        'Attributes': attributes\n",
    "        }\n",
    "    reply = requests.post(ramco_api_url,payload).json()\n",
    "    return(reply)\n",
    "\n",
    "### get_entities\n",
    "# accepts a valid entity name, a tuple of comma-separated attribute names, and (optionally) a valid filters string, a string delimiter character, and an integer value to limit max results.\n",
    "def get_entities(entity, *attributes, filters='', string_delimiter='', max_results=''):\n",
    "    payload = {\n",
    "        'key': ramco_api_key,\n",
    "        'Operation':'GetEntities',\n",
    "        'Entity': entity,\n",
    "        'Filter': filters,\n",
    "        'Attributes': attributes,\n",
    "        'StringDelimiter': string_delimiter,\n",
    "        'MaxResults': max_results\n",
    "        }\n",
    "    reply = requests.post(ramco_api_url,payload).json()\n",
    "    return(reply)\n",
    "\n",
    "### resume_streamtoken\n",
    "# accepts a valid streamtoken string and resumes the get_entities request that generated it\n",
    "def resume_streamtoken(streamtoken):\n",
    "    payload = {\n",
    "        'key': ramco_api_key,\n",
    "        'Operation':'GetEntities',\n",
    "        'StreamToken': streamtoken\n",
    "        }\n",
    "    reply = requests.post(ramco_api_url,payload).json()\n",
    "    return(reply)\n",
    "\n",
    "### delete_entity\n",
    "# accepts a guid and deletes the corresponding record\n",
    "def delete_entity(entity, guid):\n",
    "    payload = {\n",
    "        'key': ramco_api_key,\n",
    "        'Operation':'DeleteEntity',\n",
    "        'Entity': entity,\n",
    "        'GUID': guid\n",
    "        }\n",
    "    reply = requests.post(ramco_api_url,payload).json()\n",
    "    return(reply)"
   ]
  },
  {
   "cell_type": "markdown",
   "metadata": {},
   "source": [
    "that's a lot of code. normally you'd just save the content of the cell above to 'pyramco.py' and place it in the same directory as your script, then import it so whatever script you're writing has access to the functions. we've done that for you already."
   ]
  },
  {
   "cell_type": "code",
   "execution_count": 4,
   "metadata": {
    "collapsed": false
   },
   "outputs": [
    {
     "name": "stdout",
     "output_type": "stream",
     "text": [
      "{'ResponseCode': 204, 'ResponseText': 'Cache cleared.'}\n"
     ]
    }
   ],
   "source": [
    "### test pyramco setup\n",
    "\n",
    "# first we import pyramco, which should be in the right place already\n",
    "import pyramco\n",
    "\n",
    "# set the variable 'reply' to the value of the function 'pyramco.clear_cache'\n",
    "reply = pyramco.clear_cache()\n",
    "\n",
    "# then print the content of the variable 'reply' to screen (implicitly, this means we execute that function)\n",
    "print(reply)"
   ]
  },
  {
   "cell_type": "markdown",
   "metadata": {},
   "source": [
    "assuming all is well, you should see the response:\n",
    "    \n",
    "{'ResponseCode': 204, 'ResponseText': 'Cache cleared.'}\n",
    "\n",
    "congratulations, you've just written a script that did something useful!"
   ]
  },
  {
   "cell_type": "code",
   "execution_count": null,
   "metadata": {
    "collapsed": true
   },
   "outputs": [],
   "source": []
  }
 ],
 "metadata": {
  "kernelspec": {
   "display_name": "Python 3.6",
   "language": "python",
   "name": "python3.6"
  },
  "language_info": {
   "codemirror_mode": {
    "name": "ipython",
    "version": 3
   },
   "file_extension": ".py",
   "mimetype": "text/x-python",
   "name": "python",
   "nbconvert_exporter": "python",
   "pygments_lexer": "ipython3",
   "version": "3.6.0"
  }
 },
 "nbformat": 4,
 "nbformat_minor": 0
}
